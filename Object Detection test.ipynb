{
 "cells": [
  {
   "cell_type": "markdown",
   "metadata": {},
   "source": [
    "## Import Libraries"
   ]
  },
  {
   "cell_type": "code",
   "execution_count": 19,
   "metadata": {},
   "outputs": [],
   "source": [
    "from tensorflow.keras.models import load_model\n",
    "import pandas as pd\n",
    "import os\n",
    "import tqdm\n",
    "import numpy as np\n",
    "import cv2 as cv\n",
    "import matplotlib.pyplot as plt\n",
    "\n",
    "model = load_model('full_model.h5')"
   ]
  },
  {
   "cell_type": "markdown",
   "metadata": {},
   "source": [
    "Testing Data is prepared for testing the data on trained model."
   ]
  },
  {
   "cell_type": "code",
   "execution_count": 10,
   "metadata": {},
   "outputs": [],
   "source": [
    "def Data(image_folder):\n",
    "    image_paths = []\n",
    "    images = []\n",
    "    bounding_boxes = []\n",
    "    class_labels = []\n",
    "\n",
    "    data = pd.read_csv(image_folder + '/_annotations.csv')\n",
    "\n",
    "    for index, row in data.iterrows():\n",
    "        image_path = os.path.join(image_folder, row['filename'])\n",
    "        image = cv.imread(image_path) # type: ignore\n",
    "\n",
    "        x_min, y_min, x_max, y_max = row['xmin'], row['ymin'], row['xmax'], row['ymax']\n",
    "\n",
    "        class_label = row['class']\n",
    "\n",
    "        image_paths.append(image_path)\n",
    "        images.append(image)\n",
    "        bounding_boxes.append((x_min, y_min, x_max, y_max))\n",
    "        class_labels.append(class_label)\n",
    "\n",
    "    return image_paths, images, bounding_boxes, class_labels"
   ]
  },
  {
   "cell_type": "code",
   "execution_count": 8,
   "metadata": {},
   "outputs": [],
   "source": [
    "def resize(images, bounding_boxes, target_size):\n",
    "    resized_images = []\n",
    "    resized_bbox = []\n",
    "    \n",
    "    for i in range(len(images)):\n",
    "        im = images[i]\n",
    "        xmin, ymin, xmax, ymax = bounding_boxes[i]\n",
    "\n",
    "        y_ = im.shape[0]\n",
    "        x_ = im.shape[1]\n",
    "        x_scale = target_size[0]/x_\n",
    "        y_scale = target_size[1]/y_\n",
    "\n",
    "        resized_image = cv.resize(im, target_size) # type: ignore\n",
    "\n",
    "        resized_xmin = int(np.round(xmin*x_scale))\n",
    "        resized_ymin = int(np.round(ymin*y_scale))\n",
    "        resized_xmax = int(np.round(xmax*x_scale))\n",
    "        resized_ymax = int(np.round(ymax*y_scale))\n",
    "\n",
    "        resized_box = [resized_xmin, resized_ymin, resized_xmax, resized_ymax]\n",
    "\n",
    "        resized_images.append(resized_image)\n",
    "        resized_bbox.append(resized_box)\n",
    "\n",
    "    return resized_images, resized_bbox"
   ]
  },
  {
   "cell_type": "code",
   "execution_count": 13,
   "metadata": {},
   "outputs": [],
   "source": [
    "test_image_paths, test_images, test_bbox, test_labels = Data('test')"
   ]
  },
  {
   "cell_type": "code",
   "execution_count": 14,
   "metadata": {},
   "outputs": [],
   "source": [
    "resized_test_images, resized_test_bbox = resize(test_images, test_bbox, (128,128))"
   ]
  },
  {
   "cell_type": "code",
   "execution_count": 15,
   "metadata": {},
   "outputs": [],
   "source": [
    "resized_test_images, resized_test_bbox = np.array(resized_test_images)/255, np.array(resized_test_bbox)"
   ]
  },
  {
   "cell_type": "code",
   "execution_count": null,
   "metadata": {},
   "outputs": [],
   "source": [
    "test_loss, test_accuracy = model.evaluate(resized_test_images, resized_test_bbox)\n",
    "\n",
    "print(\"\\nLoss on Testing data:\", test_loss)\n",
    "print(\"Accuracy on esting data:\", test_accuracy)"
   ]
  },
  {
   "cell_type": "code",
   "execution_count": null,
   "metadata": {},
   "outputs": [],
   "source": [
    "predictions = model.predict(resized_test_images)"
   ]
  },
  {
   "cell_type": "markdown",
   "metadata": {},
   "source": [
    "The blue box is the true bounding box and red box is the predicted bounding box"
   ]
  },
  {
   "cell_type": "code",
   "execution_count": null,
   "metadata": {},
   "outputs": [],
   "source": [
    "test_image_1 = resized_test_images[1].copy()\n",
    "test_image_bbox = resized_test_bbox[1]\n",
    "predicted_image_bbox = predictions[1]\n",
    "\n",
    "cv.rectangle(test_image_1, (test_image_bbox[0], test_image_bbox[1]), (test_image_bbox[2], test_image_bbox[3]), (0,0,255), 2)\n",
    "cv.rectangle(test_image_1, (int(predicted_image_bbox[0]), int(predicted_image_bbox[1])), (int(predicted_image_bbox[2]), int(predicted_image_bbox[3])), (255,0,0), 2)\n",
    "\n",
    "plt.imshow(test_image_1)"
   ]
  },
  {
   "cell_type": "code",
   "execution_count": null,
   "metadata": {},
   "outputs": [],
   "source": [
    "test_image_1 = resized_test_images[20].copy()\n",
    "test_image_bbox = resized_test_bbox[20]\n",
    "predicted_image_bbox = predictions[20]\n",
    "\n",
    "cv.rectangle(test_image_1, (test_image_bbox[0], test_image_bbox[1]), (test_image_bbox[2], test_image_bbox[3]), (0,0,255), 2)\n",
    "cv.rectangle(test_image_1, (int(predicted_image_bbox[0]), int(predicted_image_bbox[1])), (int(predicted_image_bbox[2]), int(predicted_image_bbox[3])), (255,0,0), 2)\n",
    "\n",
    "plt.imshow(test_image_1)"
   ]
  },
  {
   "cell_type": "markdown",
   "metadata": {},
   "source": [
    "# IOU"
   ]
  },
  {
   "cell_type": "markdown",
   "metadata": {},
   "source": [
    "Intersection over Union (IoU) is a metric commonly used to evaluate the accuracy of object detection algorithms. It measures the overlap between two bounding boxes and is calculated as the area of intersection divided by the area of the union of the two boxes."
   ]
  },
  {
   "cell_type": "code",
   "execution_count": 23,
   "metadata": {},
   "outputs": [],
   "source": [
    "def calculate_iou(box1, box2):\n",
    "    \"\"\"\n",
    "    Calculate Intersection over Union (IoU) between two bounding boxes.\n",
    "\n",
    "    Parameters:\n",
    "    - box1: Tuple (x1, y1, x2, y2) representing the coordinates of the first bounding box.\n",
    "    - box2: Tuple (x1, y1, x2, y2) representing the coordinates of the second bounding box.\n",
    "\n",
    "    Returns:\n",
    "    - iou: Intersection over Union (IoU) between the two bounding boxes.\n",
    "    \"\"\"\n",
    "    x1, y1, w1, h1 = box1\n",
    "    x2, y2, w2, h2 = box2\n",
    "\n",
    "    # Calculate coordinates of the intersection rectangle\n",
    "    x_intersection = max(x1, x2)\n",
    "    y_intersection = max(y1, y2)\n",
    "    w_intersection = min(x1 + w1, x2 + w2) - x_intersection\n",
    "    h_intersection = min(y1 + h1, y2 + h2) - y_intersection\n",
    "\n",
    "    # Check if there is no intersection\n",
    "    if w_intersection <= 0 or h_intersection <= 0:\n",
    "        return 0.0\n",
    "\n",
    "    # Calculate areas of the bounding boxes and the intersection\n",
    "    area_box1 = w1 * h1\n",
    "    area_box2 = w2 * h2\n",
    "    area_intersection = w_intersection * h_intersection\n",
    "\n",
    "    # Calculate IoU\n",
    "    iou = area_intersection / float(area_box1 + area_box2 - area_intersection)\n",
    "    return iou\n"
   ]
  },
  {
   "cell_type": "code",
   "execution_count": 24,
   "metadata": {},
   "outputs": [],
   "source": [
    "iou_errors = []\n",
    "total_iou = 0.0\n",
    "num_pairs = 0\n",
    "\n",
    "for pred_bbox in predictions:\n",
    "    for true_bbox in resized_test_bbox:\n",
    "        iou = calculate_iou(pred_bbox, true_bbox)\n",
    "        # print(\"IoU:\", iou)\n",
    "        total_iou += iou\n",
    "        num_pairs += 1\n",
    "\n",
    "        iou_errors.append(iou)\n",
    "\n",
    "mean_iou = total_iou / num_pairs\n"
   ]
  },
  {
   "cell_type": "code",
   "execution_count": null,
   "metadata": {},
   "outputs": [],
   "source": [
    "print(\"Mean IoU:\", mean_iou)"
   ]
  },
  {
   "cell_type": "markdown",
   "metadata": {},
   "source": [
    "The prediction on custom image is calculated using below  function"
   ]
  },
  {
   "cell_type": "code",
   "execution_count": 28,
   "metadata": {},
   "outputs": [],
   "source": [
    "def predict(image_path):\n",
    "    im = cv.imread(image_path)\n",
    "    im = cv.resize(im, (128,128))\n",
    "\n",
    "    im = np.array(im)/255\n",
    "    image = im.reshape(1, im.shape[0], im.shape[1], im.shape[2])\n",
    "\n",
    "    print(image.shape)\n",
    "    print(im.shape)\n",
    "    bbox = model.predict(image)\n",
    "    print(bbox)\n",
    "    cv.rectangle(im, (int(bbox[0][0]), int(bbox[0][1])), (int(bbox[0][2]), int(bbox[0][3])), (0,0,255), 2)\n",
    "\n",
    "    plt.imshow(im)"
   ]
  }
 ],
 "metadata": {
  "kernelspec": {
   "display_name": "Python 3",
   "language": "python",
   "name": "python3"
  },
  "language_info": {
   "codemirror_mode": {
    "name": "ipython",
    "version": 3
   },
   "file_extension": ".py",
   "mimetype": "text/x-python",
   "name": "python",
   "nbconvert_exporter": "python",
   "pygments_lexer": "ipython3",
   "version": "3.10.11"
  }
 },
 "nbformat": 4,
 "nbformat_minor": 2
}
